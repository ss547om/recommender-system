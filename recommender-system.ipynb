{
 "cells": [
  {
   "cell_type": "markdown",
   "metadata": {},
   "source": [
    "### **RECOMMENDER SYSTEM**"
   ]
  },
  {
   "cell_type": "markdown",
   "metadata": {},
   "source": [
    "#### Loading libraries"
   ]
  },
  {
   "cell_type": "code",
   "execution_count": 13,
   "metadata": {},
   "outputs": [],
   "source": [
    "import pandas as pd\n",
    "import numpy as np\n",
    "import matplotlib.pyplot as plt\n",
    "import seaborn as sns\n",
    "from IPython.display import display, HTML\n",
    "import re\n",
    "\n",
    "pd.set_option(\"display.max_columns\", 50)\n",
    "sns.set_theme(style=\"darkgrid\", palette=\"deep\", font_scale=1, rc={\"figure.figsize\": (12, 6)})"
   ]
  },
  {
   "cell_type": "code",
   "execution_count": 14,
   "metadata": {},
   "outputs": [],
   "source": [
    "criteria = pd.read_csv(\"data/kriteriaVO.csv\")\n",
    "contract_award = pd.read_csv(\"data/contract_award_HI.csv\")\n",
    "contract_evaluation_criterion = pd.read_csv(\"data/contract_evaluation_criterionvvz_HI.csv\")\n",
    "contract = pd.read_csv(\"data/contractvvz_HI.csv\")\n",
    "evaluation = pd.read_csv(\"data/evaluation_criterionvvz_HI.csv\")"
   ]
  },
  {
   "cell_type": "markdown",
   "metadata": {},
   "source": [
    "#### Exploratory analysis"
   ]
  },
  {
   "cell_type": "code",
   "execution_count": 15,
   "metadata": {},
   "outputs": [
    {
     "name": "stdout",
     "output_type": "stream",
     "text": [
      "|DATASET: kriteriaVO|\n",
      "========================================\n",
      "Shape: (3981, 1)\n",
      "====================\n",
      "NaNs:\n",
      "-----\n",
      "criterion    0\n",
      "dtype: int64\n",
      "====================\n",
      "Dtypes:\n",
      "-------\n",
      "criterion    object\n",
      "dtype: object\n",
      "########################################\n",
      "\n",
      "|DATASET: contract_award|\n",
      "========================================\n",
      "Shape: (259171, 5)\n",
      "====================\n",
      "NaNs:\n",
      "-----\n",
      "id                      0\n",
      "contract_number    175705\n",
      "title               57096\n",
      "description        234043\n",
      "contract_id             0\n",
      "dtype: int64\n",
      "====================\n",
      "Dtypes:\n",
      "-------\n",
      "id                 object\n",
      "contract_number    object\n",
      "title              object\n",
      "description        object\n",
      "contract_id        object\n",
      "dtype: object\n",
      "########################################\n",
      "\n",
      "|DATASET: contract_evaluation_criterion|\n",
      "========================================\n",
      "Shape: (41364, 5)\n",
      "====================\n",
      "NaNs:\n",
      "-----\n",
      "id                 0\n",
      "name           41364\n",
      "weight             0\n",
      "type               0\n",
      "contract_id        0\n",
      "dtype: int64\n",
      "====================\n",
      "Dtypes:\n",
      "-------\n",
      "id              object\n",
      "name           float64\n",
      "weight           int64\n",
      "type            object\n",
      "contract_id     object\n",
      "dtype: object\n",
      "########################################\n",
      "\n",
      "|DATASET: contract|\n",
      "========================================\n",
      "Shape: (135446, 11)\n",
      "====================\n",
      "NaNs:\n",
      "-----\n",
      "id                              0\n",
      "is_framework_agreement          0\n",
      "subject_type                    0\n",
      "procedure_type               3098\n",
      "has_parts                       0\n",
      "title                           0\n",
      "description                    23\n",
      "eu_funded                   86064\n",
      "cpv_base_main                   0\n",
      "estimated_cost_value        95129\n",
      "estimated_cost_currency    135446\n",
      "dtype: int64\n",
      "====================\n",
      "Dtypes:\n",
      "-------\n",
      "id                          object\n",
      "is_framework_agreement        bool\n",
      "subject_type                object\n",
      "procedure_type              object\n",
      "has_parts                     bool\n",
      "title                       object\n",
      "description                 object\n",
      "eu_funded                   object\n",
      "cpv_base_main                int64\n",
      "estimated_cost_value       float64\n",
      "estimated_cost_currency    float64\n",
      "dtype: object\n",
      "########################################\n",
      "\n",
      "|DATASET: evaluation|\n",
      "========================================\n",
      "Shape: (158296, 5)\n",
      "====================\n",
      "NaNs:\n",
      "-----\n",
      "id                       0\n",
      "name                113073\n",
      "weight                   0\n",
      "type                     0\n",
      "contract_part_id         0\n",
      "dtype: int64\n",
      "====================\n",
      "Dtypes:\n",
      "-------\n",
      "id                  object\n",
      "name                object\n",
      "weight              object\n",
      "type                object\n",
      "contract_part_id    object\n",
      "dtype: object\n",
      "########################################\n",
      "\n"
     ]
    }
   ],
   "source": [
    "def get_to_know(df: pd.DataFrame, name: str) -> None:\n",
    "\n",
    "    # Printing basic information about the datasets\n",
    "    print(f\"|DATASET: {name}|\\n{40*'='}\\nShape: {df.shape}\\n{20*'='}\\n\\\n",
    "NaNs:\\n{5*'-'}\\n{df.isna().sum()}\\n{20*'='}\\nDtypes:\\n{7*'-'}\\n{df.dtypes}\")\n",
    "\n",
    "\n",
    "    # List of datasets for analysis\n",
    "dfs = [\n",
    "    (\"kriteriaVO\", criteria),\n",
    "    (\"contract_award\", contract_award),\n",
    "    (\"contract_evaluation_criterion\", contract_evaluation_criterion),\n",
    "    (\"contract\", contract),\n",
    "    (\"evaluation\", evaluation)\n",
    "]\n",
    "\n",
    "# Cycle through the datasets and apply the function\n",
    "for name, df in dfs:\n",
    "    get_to_know(df=df,name=name)\n",
    "    print(f\"{40*'#'}\\n\")"
   ]
  },
  {
   "cell_type": "code",
   "execution_count": 16,
   "metadata": {},
   "outputs": [
    {
     "data": {
      "text/html": [
       "<h3>kriteriaVO</h3>"
      ],
      "text/plain": [
       "<IPython.core.display.HTML object>"
      ]
     },
     "metadata": {},
     "output_type": "display_data"
    },
    {
     "data": {
      "application/vnd.microsoft.datawrangler.viewer.v0+json": {
       "columns": [
        {
         "name": "index",
         "rawType": "int64",
         "type": "integer"
        },
        {
         "name": "criterion",
         "rawType": "object",
         "type": "string"
        }
       ],
       "conversionMethod": "pd.DataFrame",
       "ref": "0cee9fbb-8581-4b48-aa3c-9f1633758c8b",
       "rows": [
        [
         "0",
         "Cena bez DPH"
        ],
        [
         "1",
         "Cena s DPH"
        ],
        [
         "2",
         "Kritériá, ktoré sa uplatnia pri vyhodnocovaní projektov:\r\nArchitektonické riešenie (zahŕňa v sebe aj funkčné a prevádzkové riešenie a technickú a ekonomickú realizovateľnosť\r\nnávrhu) a kontext umiestnenia stavby do širších vzťahov"
        ],
        [
         "3",
         "Cena"
        ],
        [
         "4",
         "Kritéria nákladov"
        ]
       ],
       "shape": {
        "columns": 1,
        "rows": 5
       }
      },
      "text/html": [
       "<div>\n",
       "<style scoped>\n",
       "    .dataframe tbody tr th:only-of-type {\n",
       "        vertical-align: middle;\n",
       "    }\n",
       "\n",
       "    .dataframe tbody tr th {\n",
       "        vertical-align: top;\n",
       "    }\n",
       "\n",
       "    .dataframe thead th {\n",
       "        text-align: right;\n",
       "    }\n",
       "</style>\n",
       "<table border=\"1\" class=\"dataframe\">\n",
       "  <thead>\n",
       "    <tr style=\"text-align: right;\">\n",
       "      <th></th>\n",
       "      <th>criterion</th>\n",
       "    </tr>\n",
       "  </thead>\n",
       "  <tbody>\n",
       "    <tr>\n",
       "      <th>0</th>\n",
       "      <td>Cena bez DPH</td>\n",
       "    </tr>\n",
       "    <tr>\n",
       "      <th>1</th>\n",
       "      <td>Cena s DPH</td>\n",
       "    </tr>\n",
       "    <tr>\n",
       "      <th>2</th>\n",
       "      <td>Kritériá, ktoré sa uplatnia pri vyhodnocovaní ...</td>\n",
       "    </tr>\n",
       "    <tr>\n",
       "      <th>3</th>\n",
       "      <td>Cena</td>\n",
       "    </tr>\n",
       "    <tr>\n",
       "      <th>4</th>\n",
       "      <td>Kritéria nákladov</td>\n",
       "    </tr>\n",
       "  </tbody>\n",
       "</table>\n",
       "</div>"
      ],
      "text/plain": [
       "                                           criterion\n",
       "0                                       Cena bez DPH\n",
       "1                                         Cena s DPH\n",
       "2  Kritériá, ktoré sa uplatnia pri vyhodnocovaní ...\n",
       "3                                               Cena\n",
       "4                                  Kritéria nákladov"
      ]
     },
     "metadata": {},
     "output_type": "display_data"
    },
    {
     "data": {
      "text/html": [
       "<h3>contract_award</h3>"
      ],
      "text/plain": [
       "<IPython.core.display.HTML object>"
      ]
     },
     "metadata": {},
     "output_type": "display_data"
    },
    {
     "data": {
      "application/vnd.microsoft.datawrangler.viewer.v0+json": {
       "columns": [
        {
         "name": "index",
         "rawType": "int64",
         "type": "integer"
        },
        {
         "name": "id",
         "rawType": "object",
         "type": "string"
        },
        {
         "name": "contract_number",
         "rawType": "object",
         "type": "unknown"
        },
        {
         "name": "title",
         "rawType": "object",
         "type": "string"
        },
        {
         "name": "description",
         "rawType": "object",
         "type": "unknown"
        },
        {
         "name": "contract_id",
         "rawType": "object",
         "type": "string"
        }
       ],
       "conversionMethod": "pd.DataFrame",
       "ref": "a2898566-e7a0-407a-a20c-52045171d93b",
       "rows": [
        [
         "0",
         "3ce0c0ff-acbb-425f-bdf3-2e4df8079790",
         null,
         "Oprava bytových jader ve 2. NP v objektu B 30 - internát \"B\" VPŠ a SPŠ MV v Holešově",
         null,
         "827fd5d9-b88c-4871-8714-692a04f32cf7"
        ],
        [
         "1",
         "cb1543cb-7131-43a9-994e-8dce3948dfb2",
         null,
         "Dům Chopin - rekonstrukce objektu - 2. etapa",
         null,
         "875c9c26-1a3f-49bc-ae89-55b317a21b64"
        ],
        [
         "2",
         "5fcf5846-69a7-4d74-9e85-384a793745a0",
         null,
         "část 1 - IT vybavení ",
         "Předmětem plnění je dodávka IT vybavení do dvou učeben (učebna fyziky a učebna chemie).",
         "14d79674-7702-4309-8a68-d2a8a508ff16"
        ],
        [
         "3",
         "354c73e4-f7d3-4282-a8de-1f5e45b3b658",
         null,
         "část 2 - nábytek ",
         "Předmětem plnění je dodávka nábytku do dvou učeben (učebna fyziky a učebna chemie).",
         "14d79674-7702-4309-8a68-d2a8a508ff16"
        ],
        [
         "4",
         "4d716fa0-6571-4732-93d3-a5f9f558e397",
         null,
         "část 3 - pomůcky ",
         "Předmětem plnění je dodávka pomůcek do dvou učeben (učebna fyziky a učebna chemie).",
         "14d79674-7702-4309-8a68-d2a8a508ff16"
        ]
       ],
       "shape": {
        "columns": 5,
        "rows": 5
       }
      },
      "text/html": [
       "<div>\n",
       "<style scoped>\n",
       "    .dataframe tbody tr th:only-of-type {\n",
       "        vertical-align: middle;\n",
       "    }\n",
       "\n",
       "    .dataframe tbody tr th {\n",
       "        vertical-align: top;\n",
       "    }\n",
       "\n",
       "    .dataframe thead th {\n",
       "        text-align: right;\n",
       "    }\n",
       "</style>\n",
       "<table border=\"1\" class=\"dataframe\">\n",
       "  <thead>\n",
       "    <tr style=\"text-align: right;\">\n",
       "      <th></th>\n",
       "      <th>id</th>\n",
       "      <th>contract_number</th>\n",
       "      <th>title</th>\n",
       "      <th>description</th>\n",
       "      <th>contract_id</th>\n",
       "    </tr>\n",
       "  </thead>\n",
       "  <tbody>\n",
       "    <tr>\n",
       "      <th>0</th>\n",
       "      <td>3ce0c0ff-acbb-425f-bdf3-2e4df8079790</td>\n",
       "      <td>NaN</td>\n",
       "      <td>Oprava bytových jader ve 2. NP v objektu B 30 ...</td>\n",
       "      <td>NaN</td>\n",
       "      <td>827fd5d9-b88c-4871-8714-692a04f32cf7</td>\n",
       "    </tr>\n",
       "    <tr>\n",
       "      <th>1</th>\n",
       "      <td>cb1543cb-7131-43a9-994e-8dce3948dfb2</td>\n",
       "      <td>NaN</td>\n",
       "      <td>Dům Chopin - rekonstrukce objektu - 2. etapa</td>\n",
       "      <td>NaN</td>\n",
       "      <td>875c9c26-1a3f-49bc-ae89-55b317a21b64</td>\n",
       "    </tr>\n",
       "    <tr>\n",
       "      <th>2</th>\n",
       "      <td>5fcf5846-69a7-4d74-9e85-384a793745a0</td>\n",
       "      <td>NaN</td>\n",
       "      <td>část 1 - IT vybavení</td>\n",
       "      <td>Předmětem plnění je dodávka IT vybavení do dvo...</td>\n",
       "      <td>14d79674-7702-4309-8a68-d2a8a508ff16</td>\n",
       "    </tr>\n",
       "    <tr>\n",
       "      <th>3</th>\n",
       "      <td>354c73e4-f7d3-4282-a8de-1f5e45b3b658</td>\n",
       "      <td>NaN</td>\n",
       "      <td>část 2 - nábytek</td>\n",
       "      <td>Předmětem plnění je dodávka nábytku do dvou uč...</td>\n",
       "      <td>14d79674-7702-4309-8a68-d2a8a508ff16</td>\n",
       "    </tr>\n",
       "    <tr>\n",
       "      <th>4</th>\n",
       "      <td>4d716fa0-6571-4732-93d3-a5f9f558e397</td>\n",
       "      <td>NaN</td>\n",
       "      <td>část 3 - pomůcky</td>\n",
       "      <td>Předmětem plnění je dodávka pomůcek do dvou uč...</td>\n",
       "      <td>14d79674-7702-4309-8a68-d2a8a508ff16</td>\n",
       "    </tr>\n",
       "  </tbody>\n",
       "</table>\n",
       "</div>"
      ],
      "text/plain": [
       "                                     id contract_number  \\\n",
       "0  3ce0c0ff-acbb-425f-bdf3-2e4df8079790             NaN   \n",
       "1  cb1543cb-7131-43a9-994e-8dce3948dfb2             NaN   \n",
       "2  5fcf5846-69a7-4d74-9e85-384a793745a0             NaN   \n",
       "3  354c73e4-f7d3-4282-a8de-1f5e45b3b658             NaN   \n",
       "4  4d716fa0-6571-4732-93d3-a5f9f558e397             NaN   \n",
       "\n",
       "                                               title  \\\n",
       "0  Oprava bytových jader ve 2. NP v objektu B 30 ...   \n",
       "1       Dům Chopin - rekonstrukce objektu - 2. etapa   \n",
       "2                              část 1 - IT vybavení    \n",
       "3                                  část 2 - nábytek    \n",
       "4                                  část 3 - pomůcky    \n",
       "\n",
       "                                         description  \\\n",
       "0                                                NaN   \n",
       "1                                                NaN   \n",
       "2  Předmětem plnění je dodávka IT vybavení do dvo...   \n",
       "3  Předmětem plnění je dodávka nábytku do dvou uč...   \n",
       "4  Předmětem plnění je dodávka pomůcek do dvou uč...   \n",
       "\n",
       "                            contract_id  \n",
       "0  827fd5d9-b88c-4871-8714-692a04f32cf7  \n",
       "1  875c9c26-1a3f-49bc-ae89-55b317a21b64  \n",
       "2  14d79674-7702-4309-8a68-d2a8a508ff16  \n",
       "3  14d79674-7702-4309-8a68-d2a8a508ff16  \n",
       "4  14d79674-7702-4309-8a68-d2a8a508ff16  "
      ]
     },
     "metadata": {},
     "output_type": "display_data"
    },
    {
     "data": {
      "text/html": [
       "<h3>contract_evaluation_criterion</h3>"
      ],
      "text/plain": [
       "<IPython.core.display.HTML object>"
      ]
     },
     "metadata": {},
     "output_type": "display_data"
    },
    {
     "data": {
      "application/vnd.microsoft.datawrangler.viewer.v0+json": {
       "columns": [
        {
         "name": "index",
         "rawType": "int64",
         "type": "integer"
        },
        {
         "name": "id",
         "rawType": "object",
         "type": "string"
        },
        {
         "name": "name",
         "rawType": "float64",
         "type": "float"
        },
        {
         "name": "weight",
         "rawType": "int64",
         "type": "integer"
        },
        {
         "name": "type",
         "rawType": "object",
         "type": "string"
        },
        {
         "name": "contract_id",
         "rawType": "object",
         "type": "string"
        }
       ],
       "conversionMethod": "pd.DataFrame",
       "ref": "4d079f09-347f-4934-b47f-4a356033b5af",
       "rows": [
        [
         "0",
         "0e381014-41cf-473e-adce-ba2763063d38",
         null,
         "100",
         "AC_LOWEST_PRICE",
         "827fd5d9-b88c-4871-8714-692a04f32cf7"
        ],
        [
         "1",
         "0a6d231d-6038-447e-b8cb-7e134f6173db",
         null,
         "100",
         "AC_LOWEST_PRICE",
         "875c9c26-1a3f-49bc-ae89-55b317a21b64"
        ],
        [
         "2",
         "28343e86-be38-418e-b367-14c83aa3cb5a",
         null,
         "100",
         "AC_LOWEST_PRICE",
         "14d79674-7702-4309-8a68-d2a8a508ff16"
        ],
        [
         "3",
         "f7833860-2c7a-4357-a6d8-60a9659d61ee",
         null,
         "100",
         "AC_LOWEST_PRICE",
         "5adec230-a5ee-4aa6-8328-88bd820165d8"
        ],
        [
         "4",
         "00a01e7f-fd9c-4d57-ac5a-24b40fd7f9d6",
         null,
         "100",
         "AC_LOWEST_PRICE",
         "18dd1c93-3c8b-4b66-a63e-82a45c9bb748"
        ]
       ],
       "shape": {
        "columns": 5,
        "rows": 5
       }
      },
      "text/html": [
       "<div>\n",
       "<style scoped>\n",
       "    .dataframe tbody tr th:only-of-type {\n",
       "        vertical-align: middle;\n",
       "    }\n",
       "\n",
       "    .dataframe tbody tr th {\n",
       "        vertical-align: top;\n",
       "    }\n",
       "\n",
       "    .dataframe thead th {\n",
       "        text-align: right;\n",
       "    }\n",
       "</style>\n",
       "<table border=\"1\" class=\"dataframe\">\n",
       "  <thead>\n",
       "    <tr style=\"text-align: right;\">\n",
       "      <th></th>\n",
       "      <th>id</th>\n",
       "      <th>name</th>\n",
       "      <th>weight</th>\n",
       "      <th>type</th>\n",
       "      <th>contract_id</th>\n",
       "    </tr>\n",
       "  </thead>\n",
       "  <tbody>\n",
       "    <tr>\n",
       "      <th>0</th>\n",
       "      <td>0e381014-41cf-473e-adce-ba2763063d38</td>\n",
       "      <td>NaN</td>\n",
       "      <td>100</td>\n",
       "      <td>AC_LOWEST_PRICE</td>\n",
       "      <td>827fd5d9-b88c-4871-8714-692a04f32cf7</td>\n",
       "    </tr>\n",
       "    <tr>\n",
       "      <th>1</th>\n",
       "      <td>0a6d231d-6038-447e-b8cb-7e134f6173db</td>\n",
       "      <td>NaN</td>\n",
       "      <td>100</td>\n",
       "      <td>AC_LOWEST_PRICE</td>\n",
       "      <td>875c9c26-1a3f-49bc-ae89-55b317a21b64</td>\n",
       "    </tr>\n",
       "    <tr>\n",
       "      <th>2</th>\n",
       "      <td>28343e86-be38-418e-b367-14c83aa3cb5a</td>\n",
       "      <td>NaN</td>\n",
       "      <td>100</td>\n",
       "      <td>AC_LOWEST_PRICE</td>\n",
       "      <td>14d79674-7702-4309-8a68-d2a8a508ff16</td>\n",
       "    </tr>\n",
       "    <tr>\n",
       "      <th>3</th>\n",
       "      <td>f7833860-2c7a-4357-a6d8-60a9659d61ee</td>\n",
       "      <td>NaN</td>\n",
       "      <td>100</td>\n",
       "      <td>AC_LOWEST_PRICE</td>\n",
       "      <td>5adec230-a5ee-4aa6-8328-88bd820165d8</td>\n",
       "    </tr>\n",
       "    <tr>\n",
       "      <th>4</th>\n",
       "      <td>00a01e7f-fd9c-4d57-ac5a-24b40fd7f9d6</td>\n",
       "      <td>NaN</td>\n",
       "      <td>100</td>\n",
       "      <td>AC_LOWEST_PRICE</td>\n",
       "      <td>18dd1c93-3c8b-4b66-a63e-82a45c9bb748</td>\n",
       "    </tr>\n",
       "  </tbody>\n",
       "</table>\n",
       "</div>"
      ],
      "text/plain": [
       "                                     id  name  weight             type  \\\n",
       "0  0e381014-41cf-473e-adce-ba2763063d38   NaN     100  AC_LOWEST_PRICE   \n",
       "1  0a6d231d-6038-447e-b8cb-7e134f6173db   NaN     100  AC_LOWEST_PRICE   \n",
       "2  28343e86-be38-418e-b367-14c83aa3cb5a   NaN     100  AC_LOWEST_PRICE   \n",
       "3  f7833860-2c7a-4357-a6d8-60a9659d61ee   NaN     100  AC_LOWEST_PRICE   \n",
       "4  00a01e7f-fd9c-4d57-ac5a-24b40fd7f9d6   NaN     100  AC_LOWEST_PRICE   \n",
       "\n",
       "                            contract_id  \n",
       "0  827fd5d9-b88c-4871-8714-692a04f32cf7  \n",
       "1  875c9c26-1a3f-49bc-ae89-55b317a21b64  \n",
       "2  14d79674-7702-4309-8a68-d2a8a508ff16  \n",
       "3  5adec230-a5ee-4aa6-8328-88bd820165d8  \n",
       "4  18dd1c93-3c8b-4b66-a63e-82a45c9bb748  "
      ]
     },
     "metadata": {},
     "output_type": "display_data"
    },
    {
     "data": {
      "text/html": [
       "<h3>contract</h3>"
      ],
      "text/plain": [
       "<IPython.core.display.HTML object>"
      ]
     },
     "metadata": {},
     "output_type": "display_data"
    },
    {
     "data": {
      "application/vnd.microsoft.datawrangler.viewer.v0+json": {
       "columns": [
        {
         "name": "index",
         "rawType": "int64",
         "type": "integer"
        },
        {
         "name": "id",
         "rawType": "object",
         "type": "string"
        },
        {
         "name": "is_framework_agreement",
         "rawType": "bool",
         "type": "boolean"
        },
        {
         "name": "subject_type",
         "rawType": "object",
         "type": "string"
        },
        {
         "name": "procedure_type",
         "rawType": "object",
         "type": "string"
        },
        {
         "name": "has_parts",
         "rawType": "bool",
         "type": "boolean"
        },
        {
         "name": "title",
         "rawType": "object",
         "type": "string"
        },
        {
         "name": "description",
         "rawType": "object",
         "type": "string"
        },
        {
         "name": "eu_funded",
         "rawType": "object",
         "type": "unknown"
        },
        {
         "name": "cpv_base_main",
         "rawType": "int64",
         "type": "integer"
        },
        {
         "name": "estimated_cost_value",
         "rawType": "float64",
         "type": "float"
        },
        {
         "name": "estimated_cost_currency",
         "rawType": "float64",
         "type": "float"
        }
       ],
       "conversionMethod": "pd.DataFrame",
       "ref": "3848b05c-5a44-461b-a95c-1351a32a6e0a",
       "rows": [
        [
         "0",
         "827fd5d9-b88c-4871-8714-692a04f32cf7",
         "False",
         "WORKS",
         "PT_SIMPLIFIED_CONTRACT",
         "False",
         "Oprava bytových jader ve 2. NP v objektu B 30 - internát \"B\" VPŠ a SPŠ MV v Holešově",
         "Kompletní oprava 15 bytových jader ve 2. NP budovy B30 - internátu \"B\"  a dalších stavebních oprav (např. chodby, společenské místnosti).",
         "False",
         "45453000",
         "5911731.0",
         null
        ],
        [
         "1",
         "875c9c26-1a3f-49bc-ae89-55b317a21b64",
         "False",
         "WORKS",
         "PT_OPEN",
         "False",
         "Dům Chopin - rekonstrukce objektu - 2. etapa",
         "Předmětem veřejné zakázky jsou stavební práce představující 2. etapu celkové rekonstrukce památkově chráněného domu Chopin, dle projektové dokumentace z 9/2021 zpracované Ing. arch. Ondřejem Tučkem, se sídlem Modřínová 1395/24, 182 00 Praha 8, IČO 7073532.",
         "True",
         "45454100",
         "51000000.0",
         null
        ],
        [
         "2",
         "14d79674-7702-4309-8a68-d2a8a508ff16",
         "False",
         "SUPPLIES",
         "PT_SIMPLIFIED_CONTRACT",
         "True",
         "UČEBNA FYZIKY; REGISTRAČNÍ ČÍSLO PROJEKTU: CZ.06.4.59/0.0/0.0/16_075/0013649 A UČEBNA CHEMIE; REGISTRAČNÍ ČÍSLO PROJEKTU: CZ.06.4.59/0.0/0.0/16_075/0013650",
         "Předmětem plnění této veřejné zakázky je dodávka IT vybavení, nábytku a pomůcek do dvou učeben (učebna fyziky a učebna chemie) a stavební úpravy v těchto učebnách.",
         "True",
         "39160000",
         "3303827.72",
         null
        ],
        [
         "3",
         "bb8b98ab-754c-4afa-8106-c153e13e7efc",
         "False",
         "SERVICES",
         "PT_RESTRICTED",
         "False",
         "DATA_VPN PL_4357 ",
         "Datové služby umožňující datovou komunikaci se službami eGovernmentu prostřednictvím Centrálního místa služeb (CMS) a s dalšími informačními systémy jednotlivých OSS nebo OVS, ať již v rámci jednoho OSS nebo OVS, nebo mezi více OSS či OVS. ",
         null,
         "64200000",
         null,
         null
        ],
        [
         "4",
         "d365ebe6-cde8-408c-856d-6b496e103f49",
         "False",
         "SERVICES",
         "PT_OPEN",
         "True",
         "Uzavření rámcových dohod na těžbu motorovou pilou na území KRNAP a jeho OP 2021-2023/ rok 2021",
         "Předmětem veřejné zakázky je uzavření rámcových dohod na těžbu dříví za území KRNAP a jeho OP. Veřejná zakázka byla rozdělena na šest částí podle jednotlivých územních pracovišť, přičemž uchazeči mohli podat nabídku pouze na dvě části dle vlastního uvážení. Výsledkem výběrového řízení bylo uzavření rámcové dohody na těžbu dříví pro každé územní pracoviště. Dílčí zakázky minitendry budou zadávány dle aktuálních potřeb každého územního pracoviště formou poptávky všech účastníků dané rámcové dohody.",
         null,
         "77211400",
         null,
         null
        ]
       ],
       "shape": {
        "columns": 11,
        "rows": 5
       }
      },
      "text/html": [
       "<div>\n",
       "<style scoped>\n",
       "    .dataframe tbody tr th:only-of-type {\n",
       "        vertical-align: middle;\n",
       "    }\n",
       "\n",
       "    .dataframe tbody tr th {\n",
       "        vertical-align: top;\n",
       "    }\n",
       "\n",
       "    .dataframe thead th {\n",
       "        text-align: right;\n",
       "    }\n",
       "</style>\n",
       "<table border=\"1\" class=\"dataframe\">\n",
       "  <thead>\n",
       "    <tr style=\"text-align: right;\">\n",
       "      <th></th>\n",
       "      <th>id</th>\n",
       "      <th>is_framework_agreement</th>\n",
       "      <th>subject_type</th>\n",
       "      <th>procedure_type</th>\n",
       "      <th>has_parts</th>\n",
       "      <th>title</th>\n",
       "      <th>description</th>\n",
       "      <th>eu_funded</th>\n",
       "      <th>cpv_base_main</th>\n",
       "      <th>estimated_cost_value</th>\n",
       "      <th>estimated_cost_currency</th>\n",
       "    </tr>\n",
       "  </thead>\n",
       "  <tbody>\n",
       "    <tr>\n",
       "      <th>0</th>\n",
       "      <td>827fd5d9-b88c-4871-8714-692a04f32cf7</td>\n",
       "      <td>False</td>\n",
       "      <td>WORKS</td>\n",
       "      <td>PT_SIMPLIFIED_CONTRACT</td>\n",
       "      <td>False</td>\n",
       "      <td>Oprava bytových jader ve 2. NP v objektu B 30 ...</td>\n",
       "      <td>Kompletní oprava 15 bytových jader ve 2. NP bu...</td>\n",
       "      <td>False</td>\n",
       "      <td>45453000</td>\n",
       "      <td>5911731.00</td>\n",
       "      <td>NaN</td>\n",
       "    </tr>\n",
       "    <tr>\n",
       "      <th>1</th>\n",
       "      <td>875c9c26-1a3f-49bc-ae89-55b317a21b64</td>\n",
       "      <td>False</td>\n",
       "      <td>WORKS</td>\n",
       "      <td>PT_OPEN</td>\n",
       "      <td>False</td>\n",
       "      <td>Dům Chopin - rekonstrukce objektu - 2. etapa</td>\n",
       "      <td>Předmětem veřejné zakázky jsou stavební práce ...</td>\n",
       "      <td>True</td>\n",
       "      <td>45454100</td>\n",
       "      <td>51000000.00</td>\n",
       "      <td>NaN</td>\n",
       "    </tr>\n",
       "    <tr>\n",
       "      <th>2</th>\n",
       "      <td>14d79674-7702-4309-8a68-d2a8a508ff16</td>\n",
       "      <td>False</td>\n",
       "      <td>SUPPLIES</td>\n",
       "      <td>PT_SIMPLIFIED_CONTRACT</td>\n",
       "      <td>True</td>\n",
       "      <td>UČEBNA FYZIKY; REGISTRAČNÍ ČÍSLO PROJEKTU: CZ....</td>\n",
       "      <td>Předmětem plnění této veřejné zakázky je dodáv...</td>\n",
       "      <td>True</td>\n",
       "      <td>39160000</td>\n",
       "      <td>3303827.72</td>\n",
       "      <td>NaN</td>\n",
       "    </tr>\n",
       "    <tr>\n",
       "      <th>3</th>\n",
       "      <td>bb8b98ab-754c-4afa-8106-c153e13e7efc</td>\n",
       "      <td>False</td>\n",
       "      <td>SERVICES</td>\n",
       "      <td>PT_RESTRICTED</td>\n",
       "      <td>False</td>\n",
       "      <td>DATA_VPN PL_4357</td>\n",
       "      <td>Datové služby umožňující datovou komunikaci se...</td>\n",
       "      <td>NaN</td>\n",
       "      <td>64200000</td>\n",
       "      <td>NaN</td>\n",
       "      <td>NaN</td>\n",
       "    </tr>\n",
       "    <tr>\n",
       "      <th>4</th>\n",
       "      <td>d365ebe6-cde8-408c-856d-6b496e103f49</td>\n",
       "      <td>False</td>\n",
       "      <td>SERVICES</td>\n",
       "      <td>PT_OPEN</td>\n",
       "      <td>True</td>\n",
       "      <td>Uzavření rámcových dohod na těžbu motorovou pi...</td>\n",
       "      <td>Předmětem veřejné zakázky je uzavření rámcovýc...</td>\n",
       "      <td>NaN</td>\n",
       "      <td>77211400</td>\n",
       "      <td>NaN</td>\n",
       "      <td>NaN</td>\n",
       "    </tr>\n",
       "  </tbody>\n",
       "</table>\n",
       "</div>"
      ],
      "text/plain": [
       "                                     id  is_framework_agreement subject_type  \\\n",
       "0  827fd5d9-b88c-4871-8714-692a04f32cf7                   False        WORKS   \n",
       "1  875c9c26-1a3f-49bc-ae89-55b317a21b64                   False        WORKS   \n",
       "2  14d79674-7702-4309-8a68-d2a8a508ff16                   False     SUPPLIES   \n",
       "3  bb8b98ab-754c-4afa-8106-c153e13e7efc                   False     SERVICES   \n",
       "4  d365ebe6-cde8-408c-856d-6b496e103f49                   False     SERVICES   \n",
       "\n",
       "           procedure_type  has_parts  \\\n",
       "0  PT_SIMPLIFIED_CONTRACT      False   \n",
       "1                 PT_OPEN      False   \n",
       "2  PT_SIMPLIFIED_CONTRACT       True   \n",
       "3           PT_RESTRICTED      False   \n",
       "4                 PT_OPEN       True   \n",
       "\n",
       "                                               title  \\\n",
       "0  Oprava bytových jader ve 2. NP v objektu B 30 ...   \n",
       "1       Dům Chopin - rekonstrukce objektu - 2. etapa   \n",
       "2  UČEBNA FYZIKY; REGISTRAČNÍ ČÍSLO PROJEKTU: CZ....   \n",
       "3                                  DATA_VPN PL_4357    \n",
       "4  Uzavření rámcových dohod na těžbu motorovou pi...   \n",
       "\n",
       "                                         description eu_funded  cpv_base_main  \\\n",
       "0  Kompletní oprava 15 bytových jader ve 2. NP bu...     False       45453000   \n",
       "1  Předmětem veřejné zakázky jsou stavební práce ...      True       45454100   \n",
       "2  Předmětem plnění této veřejné zakázky je dodáv...      True       39160000   \n",
       "3  Datové služby umožňující datovou komunikaci se...       NaN       64200000   \n",
       "4  Předmětem veřejné zakázky je uzavření rámcovýc...       NaN       77211400   \n",
       "\n",
       "   estimated_cost_value  estimated_cost_currency  \n",
       "0            5911731.00                      NaN  \n",
       "1           51000000.00                      NaN  \n",
       "2            3303827.72                      NaN  \n",
       "3                   NaN                      NaN  \n",
       "4                   NaN                      NaN  "
      ]
     },
     "metadata": {},
     "output_type": "display_data"
    },
    {
     "data": {
      "text/html": [
       "<h3>evaluation</h3>"
      ],
      "text/plain": [
       "<IPython.core.display.HTML object>"
      ]
     },
     "metadata": {},
     "output_type": "display_data"
    },
    {
     "data": {
      "application/vnd.microsoft.datawrangler.viewer.v0+json": {
       "columns": [
        {
         "name": "index",
         "rawType": "int64",
         "type": "integer"
        },
        {
         "name": "id",
         "rawType": "object",
         "type": "string"
        },
        {
         "name": "name",
         "rawType": "object",
         "type": "unknown"
        },
        {
         "name": "weight",
         "rawType": "object",
         "type": "string"
        },
        {
         "name": "type",
         "rawType": "object",
         "type": "string"
        },
        {
         "name": "contract_part_id",
         "rawType": "object",
         "type": "string"
        }
       ],
       "conversionMethod": "pd.DataFrame",
       "ref": "b9ddc148-5701-473b-95c4-4787a061a1d4",
       "rows": [
        [
         "0",
         "d88d8343-600e-473b-9641-fc6dc7d6f676",
         null,
         "100",
         "AC_PRICE",
         "916de771-7fc4-4ac6-aa41-33d2ba0a95cf"
        ],
        [
         "1",
         "0cc63c35-57cd-4e6b-a00c-b94efc935108",
         null,
         "100",
         "AC_PRICE",
         "a13a097f-359e-4c8c-a80e-85e9e66dfa27"
        ],
        [
         "2",
         "95a2f5bc-1937-4597-b94a-73435f06d3fe",
         null,
         "100",
         "AC_PRICE",
         "22d65852-9ce7-4bc2-87fd-958d5ee5cb78"
        ],
        [
         "3",
         "996c112c-57ec-49ae-b980-4d116bb0e21e",
         null,
         "100",
         "AC_PRICE",
         "c1e84303-d390-4df7-926d-f62574c582fb"
        ],
        [
         "4",
         "96c119e6-ebe5-400f-816c-ecbdffabcaf1",
         null,
         "100",
         "AC_PRICE",
         "e5359f4b-ba61-4028-9784-2d01ba198bb2"
        ]
       ],
       "shape": {
        "columns": 5,
        "rows": 5
       }
      },
      "text/html": [
       "<div>\n",
       "<style scoped>\n",
       "    .dataframe tbody tr th:only-of-type {\n",
       "        vertical-align: middle;\n",
       "    }\n",
       "\n",
       "    .dataframe tbody tr th {\n",
       "        vertical-align: top;\n",
       "    }\n",
       "\n",
       "    .dataframe thead th {\n",
       "        text-align: right;\n",
       "    }\n",
       "</style>\n",
       "<table border=\"1\" class=\"dataframe\">\n",
       "  <thead>\n",
       "    <tr style=\"text-align: right;\">\n",
       "      <th></th>\n",
       "      <th>id</th>\n",
       "      <th>name</th>\n",
       "      <th>weight</th>\n",
       "      <th>type</th>\n",
       "      <th>contract_part_id</th>\n",
       "    </tr>\n",
       "  </thead>\n",
       "  <tbody>\n",
       "    <tr>\n",
       "      <th>0</th>\n",
       "      <td>d88d8343-600e-473b-9641-fc6dc7d6f676</td>\n",
       "      <td>NaN</td>\n",
       "      <td>100</td>\n",
       "      <td>AC_PRICE</td>\n",
       "      <td>916de771-7fc4-4ac6-aa41-33d2ba0a95cf</td>\n",
       "    </tr>\n",
       "    <tr>\n",
       "      <th>1</th>\n",
       "      <td>0cc63c35-57cd-4e6b-a00c-b94efc935108</td>\n",
       "      <td>NaN</td>\n",
       "      <td>100</td>\n",
       "      <td>AC_PRICE</td>\n",
       "      <td>a13a097f-359e-4c8c-a80e-85e9e66dfa27</td>\n",
       "    </tr>\n",
       "    <tr>\n",
       "      <th>2</th>\n",
       "      <td>95a2f5bc-1937-4597-b94a-73435f06d3fe</td>\n",
       "      <td>NaN</td>\n",
       "      <td>100</td>\n",
       "      <td>AC_PRICE</td>\n",
       "      <td>22d65852-9ce7-4bc2-87fd-958d5ee5cb78</td>\n",
       "    </tr>\n",
       "    <tr>\n",
       "      <th>3</th>\n",
       "      <td>996c112c-57ec-49ae-b980-4d116bb0e21e</td>\n",
       "      <td>NaN</td>\n",
       "      <td>100</td>\n",
       "      <td>AC_PRICE</td>\n",
       "      <td>c1e84303-d390-4df7-926d-f62574c582fb</td>\n",
       "    </tr>\n",
       "    <tr>\n",
       "      <th>4</th>\n",
       "      <td>96c119e6-ebe5-400f-816c-ecbdffabcaf1</td>\n",
       "      <td>NaN</td>\n",
       "      <td>100</td>\n",
       "      <td>AC_PRICE</td>\n",
       "      <td>e5359f4b-ba61-4028-9784-2d01ba198bb2</td>\n",
       "    </tr>\n",
       "  </tbody>\n",
       "</table>\n",
       "</div>"
      ],
      "text/plain": [
       "                                     id name weight      type  \\\n",
       "0  d88d8343-600e-473b-9641-fc6dc7d6f676  NaN    100  AC_PRICE   \n",
       "1  0cc63c35-57cd-4e6b-a00c-b94efc935108  NaN    100  AC_PRICE   \n",
       "2  95a2f5bc-1937-4597-b94a-73435f06d3fe  NaN    100  AC_PRICE   \n",
       "3  996c112c-57ec-49ae-b980-4d116bb0e21e  NaN    100  AC_PRICE   \n",
       "4  96c119e6-ebe5-400f-816c-ecbdffabcaf1  NaN    100  AC_PRICE   \n",
       "\n",
       "                       contract_part_id  \n",
       "0  916de771-7fc4-4ac6-aa41-33d2ba0a95cf  \n",
       "1  a13a097f-359e-4c8c-a80e-85e9e66dfa27  \n",
       "2  22d65852-9ce7-4bc2-87fd-958d5ee5cb78  \n",
       "3  c1e84303-d390-4df7-926d-f62574c582fb  \n",
       "4  e5359f4b-ba61-4028-9784-2d01ba198bb2  "
      ]
     },
     "metadata": {},
     "output_type": "display_data"
    }
   ],
   "source": [
    "for name, df in dfs:\n",
    "    display(HTML(f\"<h3>{name}</h3>\"))\n",
    "    display(df.head(n=5))"
   ]
  },
  {
   "cell_type": "code",
   "execution_count": 17,
   "metadata": {},
   "outputs": [
    {
     "data": {
      "text/html": [
       "<h4>kriteriaVO</h4>"
      ],
      "text/plain": [
       "<IPython.core.display.HTML object>"
      ]
     },
     "metadata": {},
     "output_type": "display_data"
    },
    {
     "name": "stdout",
     "output_type": "stream",
     "text": [
      "Index(['criterion'], dtype='object')\n"
     ]
    },
    {
     "data": {
      "text/html": [
       "<h4>contract_award</h4>"
      ],
      "text/plain": [
       "<IPython.core.display.HTML object>"
      ]
     },
     "metadata": {},
     "output_type": "display_data"
    },
    {
     "name": "stdout",
     "output_type": "stream",
     "text": [
      "Index(['id', 'contract_number', 'title', 'description', 'contract_id'], dtype='object')\n"
     ]
    },
    {
     "data": {
      "text/html": [
       "<h4>contract_evaluation_criterion</h4>"
      ],
      "text/plain": [
       "<IPython.core.display.HTML object>"
      ]
     },
     "metadata": {},
     "output_type": "display_data"
    },
    {
     "name": "stdout",
     "output_type": "stream",
     "text": [
      "Index(['id', 'name', 'weight', 'type', 'contract_id'], dtype='object')\n"
     ]
    },
    {
     "data": {
      "text/html": [
       "<h4>contract</h4>"
      ],
      "text/plain": [
       "<IPython.core.display.HTML object>"
      ]
     },
     "metadata": {},
     "output_type": "display_data"
    },
    {
     "name": "stdout",
     "output_type": "stream",
     "text": [
      "Index(['id', 'is_framework_agreement', 'subject_type', 'procedure_type',\n",
      "       'has_parts', 'title', 'description', 'eu_funded', 'cpv_base_main',\n",
      "       'estimated_cost_value', 'estimated_cost_currency'],\n",
      "      dtype='object')\n"
     ]
    },
    {
     "data": {
      "text/html": [
       "<h4>evaluation</h4>"
      ],
      "text/plain": [
       "<IPython.core.display.HTML object>"
      ]
     },
     "metadata": {},
     "output_type": "display_data"
    },
    {
     "name": "stdout",
     "output_type": "stream",
     "text": [
      "Index(['id', 'name', 'weight', 'type', 'contract_part_id'], dtype='object')\n"
     ]
    }
   ],
   "source": [
    "for name, df in dfs:\n",
    "    display(HTML(f\"<h4>{name}</h4>\"))\n",
    "    print(df.columns)"
   ]
  },
  {
   "cell_type": "markdown",
   "metadata": {},
   "source": [
    "#### Numerical attributes in datasets  \n",
    "\n",
    "Dataset: contract  \n",
    "- cpv_base_main, estimated_cost_value, estimated_cost_currency  \n",
    "\n",
    "Dataset: evaluation\n",
    "- weight *(needs to be cnoverted from object to int64)"
   ]
  },
  {
   "cell_type": "code",
   "execution_count": 18,
   "metadata": {},
   "outputs": [],
   "source": [
    "# Attribute weight in evaluation dataset includes also characters like % (sadly)\n",
    "# evaluation[\"weight\"].loc[evaluation[\"weight\"] == \"25 %\"]"
   ]
  },
  {
   "cell_type": "code",
   "execution_count": 19,
   "metadata": {},
   "outputs": [
    {
     "name": "stdout",
     "output_type": "stream",
     "text": [
      "{'.', 'ž', 'f', ')', 'e', 'A', 's', ':', 'B', 'o', 'z', 'd', ',', 'i', 'š', 'ě', 'á', 'p', 'ř', 'í', '+', 'b', 'u', 'l', 'j', 'a', 'c', 'h', 'V', 'N', 'P', '=', 't', '%', 'Z', 'ý', 'R', ' ', 'r', 'm', '-', 'k', '/', 'I', 'ů', 'é', 'n', 'D', 'č', 'v'}\n"
     ]
    }
   ],
   "source": [
    "# Joining all values in evaluation[\"weight\"] into a single string\n",
    "all_weights = \" \".join(evaluation[\"weight\"].dropna().astype(str))\n",
    "\n",
    "# Finds all non-numeric characters in the string\n",
    "non_numeric_chars = set(re.findall(r\"[^\\d]\", all_weights))\n",
    "print(non_numeric_chars)"
   ]
  },
  {
   "cell_type": "code",
   "execution_count": 20,
   "metadata": {},
   "outputs": [],
   "source": [
    "# Removing all non-numeric characters, including spaces\n",
    "evaluation[\"weight_clean\"] = pd.to_numeric(\n",
    "    evaluation[\"weight\"]\n",
    "    .astype(str)\n",
    "    .str.strip()\n",
    "    .str.replace(r\"[^\\d]\", \"\", regex=True),\n",
    "    errors=\"coerce\"\n",
    ")"
   ]
  },
  {
   "cell_type": "code",
   "execution_count": 21,
   "metadata": {},
   "outputs": [
    {
     "data": {
      "application/vnd.microsoft.datawrangler.viewer.v0+json": {
       "columns": [
        {
         "name": "index",
         "rawType": "int64",
         "type": "integer"
        },
        {
         "name": "id",
         "rawType": "object",
         "type": "string"
        },
        {
         "name": "name",
         "rawType": "object",
         "type": "unknown"
        },
        {
         "name": "weight",
         "rawType": "object",
         "type": "string"
        },
        {
         "name": "type",
         "rawType": "object",
         "type": "string"
        },
        {
         "name": "contract_part_id",
         "rawType": "object",
         "type": "string"
        },
        {
         "name": "weight_clean",
         "rawType": "float64",
         "type": "float"
        }
       ],
       "conversionMethod": "pd.DataFrame",
       "ref": "c8623eea-8ba2-47f4-aa32-7b3559c22d7f",
       "rows": [
        [
         "1238",
         "54967445-ddd1-4172-9009-66808b53228a",
         null,
         "Pevná cena",
         "AC_PRICE",
         "bea6b77d-2cc7-4ef2-bda1-4ae53248a85e",
         null
        ],
        [
         "1523",
         "9734b188-df9a-492f-b2ee-f589a918acb0",
         "1",
         "t",
         "AC_COST",
         "4468414e-bb13-42e7-bdcb-be7836d59974",
         null
        ],
        [
         "3016",
         "354a2b3c-036e-4332-be5b-1776e34331ad",
         null,
         "Pevná cena",
         "AC_PRICE",
         "a4c8d1f6-9b36-4b39-ae49-8896652a127e",
         null
        ],
        [
         "3150",
         "ed9416d1-0000-4ba1-a95e-ec4252f10882",
         "1",
         "tuna",
         "AC_COST",
         "1b54458d-de54-4067-a355-70e0d80b05d5",
         null
        ],
        [
         "10522",
         "7d7f7b43-7db4-4134-971d-500f2b785257",
         "1",
         "t",
         "AC_COST",
         "7200ff28-e639-457c-b70c-4de865f25e48",
         null
        ],
        [
         "10611",
         "247307cc-fabe-433e-8fee-98e84c42c492",
         "cena přepočítaná k tech. par. -  ztráty + model. př. pro servisní smlouvu",
         "viz ZD",
         "AC_QUALITY",
         "46a4f259-e3c5-4232-b67d-ab34b558547d",
         null
        ],
        [
         "10612",
         "566f036b-8484-4e9c-a820-15d7e6408d45",
         "celková cena pro hodnocení nabídek",
         "viz ZD",
         "AC_COST",
         "46a4f259-e3c5-4232-b67d-ab34b558547d",
         null
        ],
        [
         "10706",
         "6a119bef-ed20-4e92-8c30-77b4e775fe83",
         null,
         "Pevná cena",
         "AC_PRICE",
         "30aa64de-db4c-43e9-a7b6-00fc5bceddeb",
         null
        ],
        [
         "13239",
         "3893e399-7776-461d-999d-56a8ce8104fc",
         "cena přepočítaná k tech. par. -  ztráty + model. př. pro servisní smlouvu",
         "viz ZD",
         "AC_QUALITY",
         "abe4b178-c259-4c2e-9f16-a4917ec148cf",
         null
        ],
        [
         "13240",
         "ad305ab9-c376-48d1-82ec-9a80e33e0945",
         "celková cena pro hodnocení nabídek",
         "viz ZD",
         "AC_COST",
         "abe4b178-c259-4c2e-9f16-a4917ec148cf",
         null
        ],
        [
         "13408",
         "55c2fd91-254f-481d-921f-9a600be4ec7e",
         null,
         "Pevná cena",
         "AC_PRICE",
         "b9c93ce2-b31d-48c3-b2ed-281679ef9ea1",
         null
        ],
        [
         "18258",
         "703c70a9-7912-472a-b6a4-b1e8a8d35164",
         "1",
         "t",
         "AC_COST",
         "e51e254a-ea6b-4af4-a9cc-014e1f496c50",
         null
        ],
        [
         "22658",
         "6f4dcf38-47a5-485b-b085-c17ba6332404",
         "1",
         "t",
         "AC_COST",
         "e0074b28-da23-44ed-bded-cdeefe336391",
         null
        ],
        [
         "23638",
         "680d0aa0-4cbd-4712-beff-b531e4d31259",
         "Dávkování bílé barvy",
         "DA",
         "AC_QUALITY",
         "eeff3ef1-2794-4cfe-b038-1f8bc40f9757",
         null
        ],
        [
         "23639",
         "60cbb834-8f62-43e2-a364-398d0554df5e",
         "Dávkování balotiny",
         "DB",
         "AC_QUALITY",
         "eeff3ef1-2794-4cfe-b038-1f8bc40f9757",
         null
        ],
        [
         "23640",
         "ce671088-11ac-4e36-be0b-b5b3b4341944",
         "Cena bílé barvy",
         "A",
         "AC_COST",
         "eeff3ef1-2794-4cfe-b038-1f8bc40f9757",
         null
        ],
        [
         "23641",
         "de3279ab-1ac8-4922-9e1c-74399dd68b68",
         "Cena balotiny",
         "B",
         "AC_COST",
         "eeff3ef1-2794-4cfe-b038-1f8bc40f9757",
         null
        ],
        [
         "24690",
         "38deedf5-b7c2-4a4a-9ad6-951f8f71ee6b",
         "1",
         "t",
         "AC_COST",
         "c00eb954-2187-44cb-9022-178b72bbb110",
         null
        ],
        [
         "29880",
         "22e4208b-a1e7-4812-8b7c-0fcd5e36e994",
         null,
         "Pevná cena",
         "AC_PRICE",
         "2cfbb9db-8fcb-434a-aaf6-978c46fb8952",
         null
        ],
        [
         "32559",
         "6c909c28-2a22-45b2-9a48-f4d589829fde",
         null,
         "Pevná cena",
         "AC_PRICE",
         "67f477d9-e795-45a2-a147-b0afd319400b",
         null
        ],
        [
         "36616",
         "f900aa2b-9619-478c-9045-c56511402653",
         "dávkování balotiny ",
         "DB",
         "AC_QUALITY",
         "150047ee-1dd5-46b4-a581-e066d82453e2",
         null
        ],
        [
         "36617",
         "9233ba76-9c75-49c5-9608-5cdec6bf3496",
         "dávkování bílé barvy ",
         "DA",
         "AC_QUALITY",
         "150047ee-1dd5-46b4-a581-e066d82453e2",
         null
        ],
        [
         "36618",
         "49b620c5-5419-43ae-b0b9-868172b93bac",
         "nabídková cena bílé barvy ",
         "A",
         "AC_COST",
         "150047ee-1dd5-46b4-a581-e066d82453e2",
         null
        ],
        [
         "36619",
         "4dfa3a04-4baf-4561-b1db-45e737ca7376",
         "nabídková cena balotiny",
         "B",
         "AC_COST",
         "150047ee-1dd5-46b4-a581-e066d82453e2",
         null
        ],
        [
         "38511",
         "f14be968-8e8f-4cd6-a287-995f07394e5b",
         null,
         "Pevná cena",
         "AC_PRICE",
         "3207529a-ef67-4d5a-8c31-0faed29074df",
         null
        ],
        [
         "39047",
         "8da3eed6-a756-4372-aba1-630a17c1a3f9",
         "Cena není jediným kritériem zadání a všechna kritéria jsou uvedena pouze v zadávací dokumentaci",
         "neurčeno",
         "AC_QUALITY",
         "00747931-6350-466c-bd29-11816e5dbe61",
         null
        ],
        [
         "39048",
         "268aa06b-4078-478b-b5cf-9153d8761692",
         null,
         "neurčeno",
         "AC_PRICE",
         "00747931-6350-466c-bd29-11816e5dbe61",
         null
        ],
        [
         "39885",
         "f01c56a2-1151-43ea-85df-30ebf023ef96",
         "Dávkování bílé barvy",
         "DA",
         "AC_QUALITY",
         "a159977b-b083-4977-a143-8c7b6497e3c1",
         null
        ],
        [
         "39886",
         "e4ab1074-43b0-402b-bb48-a948ee2d0341",
         "Dávkování balotiny",
         "DB",
         "AC_QUALITY",
         "a159977b-b083-4977-a143-8c7b6497e3c1",
         null
        ],
        [
         "39887",
         "ecce9c22-2c66-4040-925a-d62fc1abf1b3",
         "Cena bílé barvy",
         "A",
         "AC_COST",
         "a159977b-b083-4977-a143-8c7b6497e3c1",
         null
        ],
        [
         "39888",
         "c6f5eda7-ca58-4e31-8b99-ce97ca4d91a9",
         "Cena balotiny",
         "B",
         "AC_COST",
         "a159977b-b083-4977-a143-8c7b6497e3c1",
         null
        ],
        [
         "43471",
         "56ed3ae2-a48f-4dd4-98e5-7fa4d0ba2cbc",
         "Hodnocení nebylo provedeno",
         "Nehodnoceno",
         "AC_COST",
         "24920acf-915f-4311-8365-1c342be0807f",
         null
        ],
        [
         "46328",
         "664d1bbe-07aa-45d2-a829-77eab13d6b46",
         "Výše nákladů na dopravu 1 tuny odpadu",
         "dle vzorce v ZD",
         "AC_COST",
         "40adae42-2492-410c-bfac-6e7303a142a9",
         null
        ],
        [
         "46329",
         "52dc433f-387b-4e2b-98eb-03e9404882b5",
         "Výše ceny za uložení 1 tuny odpadu",
         "dle vzorce v ZD",
         "AC_COST",
         "40adae42-2492-410c-bfac-6e7303a142a9",
         null
        ],
        [
         "63767",
         "629f6797-edc0-434f-b46b-9f2691a4ee04",
         "Výše nákladů na dopravu 1 tuny odpadu",
         "dle vzorce v ZD",
         "AC_COST",
         "4702a95c-f846-4e7f-b433-74a658e16921",
         null
        ],
        [
         "63768",
         "81a46b31-590b-40e7-9e82-5c18b6ecde1f",
         "Výše ceny za uložení 1 tuny odpadu",
         "dle vzorce v ZD",
         "AC_COST",
         "4702a95c-f846-4e7f-b433-74a658e16921",
         null
        ],
        [
         "64123",
         "a58b8ac4-7896-4ae7-ab54-720ca3d8f9a3",
         "Výše nákladů na dopravu 1 tuny odpadu",
         "dle vzorce v ZD",
         "AC_COST",
         "b9e83643-56d4-4923-998d-29094fea66dc",
         null
        ],
        [
         "64124",
         "40faa85a-760e-436b-870f-0016ba302f91",
         "Výše ceny za uložení 1 tuny odpadu",
         "dle vzorce v ZD",
         "AC_COST",
         "b9e83643-56d4-4923-998d-29094fea66dc",
         null
        ],
        [
         "66894",
         "b648f34d-7c71-40d6-8967-b9d0070fdb8b",
         "Dávkování bílé barvy",
         "DA",
         "AC_QUALITY",
         "8eba20de-b847-4e90-9ce9-cc331b3e9c51",
         null
        ],
        [
         "66895",
         "80e7b053-c573-46cd-8b6c-a3b5809caa84",
         "Dávkování balotiny",
         "DB",
         "AC_QUALITY",
         "8eba20de-b847-4e90-9ce9-cc331b3e9c51",
         null
        ],
        [
         "66896",
         "4f106bdf-c887-4f28-802a-a93415550818",
         "Cena bílé barvy",
         "A",
         "AC_COST",
         "8eba20de-b847-4e90-9ce9-cc331b3e9c51",
         null
        ],
        [
         "66897",
         "38241023-aea2-403b-9387-eedb9a79ff48",
         "Cena balotiny",
         "B",
         "AC_COST",
         "8eba20de-b847-4e90-9ce9-cc331b3e9c51",
         null
        ],
        [
         "66922",
         "f156e202-11fa-4b80-82d4-79a74f90337f",
         "Dávkování bílé barvy",
         "DA",
         "AC_QUALITY",
         "74a9bd32-e3ce-4625-b488-4310543a22aa",
         null
        ],
        [
         "66923",
         "83cccb21-7d8b-4553-97e6-2beca00ac434",
         "Dávkování balotiny",
         "DB",
         "AC_QUALITY",
         "74a9bd32-e3ce-4625-b488-4310543a22aa",
         null
        ],
        [
         "66924",
         "f4cea00b-9ea7-48a4-a739-c37d74a563c5",
         "Cena bílé barvy",
         "A",
         "AC_COST",
         "74a9bd32-e3ce-4625-b488-4310543a22aa",
         null
        ],
        [
         "66925",
         "64c39b18-edf0-405d-a9b1-2095a3bbfc13",
         "Cena balotiny",
         "B",
         "AC_COST",
         "74a9bd32-e3ce-4625-b488-4310543a22aa",
         null
        ],
        [
         "67870",
         "c3cb43ea-c0b4-44fd-99ae-ca2ae245e9f7",
         "viz Zadávací dokumentace",
         "viz ZD",
         "AC_QUALITY",
         "c064d6a9-19bc-4f6e-b2ae-404f68e9e442",
         null
        ],
        [
         "67871",
         "a827075c-1e9c-4475-9985-76b81196d6cc",
         null,
         "viz ZD",
         "AC_PRICE",
         "c064d6a9-19bc-4f6e-b2ae-404f68e9e442",
         null
        ],
        [
         "75685",
         "0cc03029-7993-45e9-8529-c84fe25ca57e",
         null,
         "Pevná cena",
         "AC_PRICE",
         "5428a3e4-7173-4524-b08c-6738abdab6a8",
         null
        ],
        [
         "77041",
         "66fb0e3c-f21c-443d-9f84-1d821acc4ce7",
         "1",
         "tuna",
         "AC_COST",
         "c492e5da-d8db-46a6-9415-e6d98a127597",
         null
        ]
       ],
       "shape": {
        "columns": 6,
        "rows": 144
       }
      },
      "text/html": [
       "<div>\n",
       "<style scoped>\n",
       "    .dataframe tbody tr th:only-of-type {\n",
       "        vertical-align: middle;\n",
       "    }\n",
       "\n",
       "    .dataframe tbody tr th {\n",
       "        vertical-align: top;\n",
       "    }\n",
       "\n",
       "    .dataframe thead th {\n",
       "        text-align: right;\n",
       "    }\n",
       "</style>\n",
       "<table border=\"1\" class=\"dataframe\">\n",
       "  <thead>\n",
       "    <tr style=\"text-align: right;\">\n",
       "      <th></th>\n",
       "      <th>id</th>\n",
       "      <th>name</th>\n",
       "      <th>weight</th>\n",
       "      <th>type</th>\n",
       "      <th>contract_part_id</th>\n",
       "      <th>weight_clean</th>\n",
       "    </tr>\n",
       "  </thead>\n",
       "  <tbody>\n",
       "    <tr>\n",
       "      <th>1238</th>\n",
       "      <td>54967445-ddd1-4172-9009-66808b53228a</td>\n",
       "      <td>NaN</td>\n",
       "      <td>Pevná cena</td>\n",
       "      <td>AC_PRICE</td>\n",
       "      <td>bea6b77d-2cc7-4ef2-bda1-4ae53248a85e</td>\n",
       "      <td>NaN</td>\n",
       "    </tr>\n",
       "    <tr>\n",
       "      <th>1523</th>\n",
       "      <td>9734b188-df9a-492f-b2ee-f589a918acb0</td>\n",
       "      <td>1</td>\n",
       "      <td>t</td>\n",
       "      <td>AC_COST</td>\n",
       "      <td>4468414e-bb13-42e7-bdcb-be7836d59974</td>\n",
       "      <td>NaN</td>\n",
       "    </tr>\n",
       "    <tr>\n",
       "      <th>3016</th>\n",
       "      <td>354a2b3c-036e-4332-be5b-1776e34331ad</td>\n",
       "      <td>NaN</td>\n",
       "      <td>Pevná cena</td>\n",
       "      <td>AC_PRICE</td>\n",
       "      <td>a4c8d1f6-9b36-4b39-ae49-8896652a127e</td>\n",
       "      <td>NaN</td>\n",
       "    </tr>\n",
       "    <tr>\n",
       "      <th>3150</th>\n",
       "      <td>ed9416d1-0000-4ba1-a95e-ec4252f10882</td>\n",
       "      <td>1</td>\n",
       "      <td>tuna</td>\n",
       "      <td>AC_COST</td>\n",
       "      <td>1b54458d-de54-4067-a355-70e0d80b05d5</td>\n",
       "      <td>NaN</td>\n",
       "    </tr>\n",
       "    <tr>\n",
       "      <th>10522</th>\n",
       "      <td>7d7f7b43-7db4-4134-971d-500f2b785257</td>\n",
       "      <td>1</td>\n",
       "      <td>t</td>\n",
       "      <td>AC_COST</td>\n",
       "      <td>7200ff28-e639-457c-b70c-4de865f25e48</td>\n",
       "      <td>NaN</td>\n",
       "    </tr>\n",
       "    <tr>\n",
       "      <th>...</th>\n",
       "      <td>...</td>\n",
       "      <td>...</td>\n",
       "      <td>...</td>\n",
       "      <td>...</td>\n",
       "      <td>...</td>\n",
       "      <td>...</td>\n",
       "    </tr>\n",
       "    <tr>\n",
       "      <th>158051</th>\n",
       "      <td>4c2b00b7-5c25-4a20-8dd2-11366aab518e</td>\n",
       "      <td>plocha povrchu pro stojící cestující</td>\n",
       "      <td>dle vzorce kriteriální funkce</td>\n",
       "      <td>AC_QUALITY</td>\n",
       "      <td>af94246e-99a9-4e35-9eeb-969c0a2fde86</td>\n",
       "      <td>NaN</td>\n",
       "    </tr>\n",
       "    <tr>\n",
       "      <th>158052</th>\n",
       "      <td>f16203c2-c9a4-41a7-b6f1-33ad0c0969b5</td>\n",
       "      <td>NaN</td>\n",
       "      <td>dle vzorce kriteriální funkce</td>\n",
       "      <td>AC_PRICE</td>\n",
       "      <td>af94246e-99a9-4e35-9eeb-969c0a2fde86</td>\n",
       "      <td>NaN</td>\n",
       "    </tr>\n",
       "    <tr>\n",
       "      <th>158195</th>\n",
       "      <td>c6fff4e0-38ec-444b-812d-e3f0f30c7bde</td>\n",
       "      <td>počet míst k sezení</td>\n",
       "      <td>dle vzorce kriteriální funkce</td>\n",
       "      <td>AC_QUALITY</td>\n",
       "      <td>ef4c9b68-5c72-4226-9a0d-983532a27b38</td>\n",
       "      <td>NaN</td>\n",
       "    </tr>\n",
       "    <tr>\n",
       "      <th>158196</th>\n",
       "      <td>393554ee-c3f1-4038-aafb-18373118fe05</td>\n",
       "      <td>plocha povrchu pro stojící cestující</td>\n",
       "      <td>dle vzorce kriteriální funkce</td>\n",
       "      <td>AC_QUALITY</td>\n",
       "      <td>ef4c9b68-5c72-4226-9a0d-983532a27b38</td>\n",
       "      <td>NaN</td>\n",
       "    </tr>\n",
       "    <tr>\n",
       "      <th>158197</th>\n",
       "      <td>238f5d80-4652-4d51-a7cb-f5be90575c2f</td>\n",
       "      <td>NaN</td>\n",
       "      <td>dle vzorce kriteriální funkce</td>\n",
       "      <td>AC_PRICE</td>\n",
       "      <td>ef4c9b68-5c72-4226-9a0d-983532a27b38</td>\n",
       "      <td>NaN</td>\n",
       "    </tr>\n",
       "  </tbody>\n",
       "</table>\n",
       "<p>144 rows × 6 columns</p>\n",
       "</div>"
      ],
      "text/plain": [
       "                                          id  \\\n",
       "1238    54967445-ddd1-4172-9009-66808b53228a   \n",
       "1523    9734b188-df9a-492f-b2ee-f589a918acb0   \n",
       "3016    354a2b3c-036e-4332-be5b-1776e34331ad   \n",
       "3150    ed9416d1-0000-4ba1-a95e-ec4252f10882   \n",
       "10522   7d7f7b43-7db4-4134-971d-500f2b785257   \n",
       "...                                      ...   \n",
       "158051  4c2b00b7-5c25-4a20-8dd2-11366aab518e   \n",
       "158052  f16203c2-c9a4-41a7-b6f1-33ad0c0969b5   \n",
       "158195  c6fff4e0-38ec-444b-812d-e3f0f30c7bde   \n",
       "158196  393554ee-c3f1-4038-aafb-18373118fe05   \n",
       "158197  238f5d80-4652-4d51-a7cb-f5be90575c2f   \n",
       "\n",
       "                                        name                         weight  \\\n",
       "1238                                     NaN                     Pevná cena   \n",
       "1523                                       1                              t   \n",
       "3016                                     NaN                     Pevná cena   \n",
       "3150                                       1                           tuna   \n",
       "10522                                      1                              t   \n",
       "...                                      ...                            ...   \n",
       "158051  plocha povrchu pro stojící cestující  dle vzorce kriteriální funkce   \n",
       "158052                                   NaN  dle vzorce kriteriální funkce   \n",
       "158195                   počet míst k sezení  dle vzorce kriteriální funkce   \n",
       "158196  plocha povrchu pro stojící cestující  dle vzorce kriteriální funkce   \n",
       "158197                                   NaN  dle vzorce kriteriální funkce   \n",
       "\n",
       "              type                      contract_part_id  weight_clean  \n",
       "1238      AC_PRICE  bea6b77d-2cc7-4ef2-bda1-4ae53248a85e           NaN  \n",
       "1523       AC_COST  4468414e-bb13-42e7-bdcb-be7836d59974           NaN  \n",
       "3016      AC_PRICE  a4c8d1f6-9b36-4b39-ae49-8896652a127e           NaN  \n",
       "3150       AC_COST  1b54458d-de54-4067-a355-70e0d80b05d5           NaN  \n",
       "10522      AC_COST  7200ff28-e639-457c-b70c-4de865f25e48           NaN  \n",
       "...            ...                                   ...           ...  \n",
       "158051  AC_QUALITY  af94246e-99a9-4e35-9eeb-969c0a2fde86           NaN  \n",
       "158052    AC_PRICE  af94246e-99a9-4e35-9eeb-969c0a2fde86           NaN  \n",
       "158195  AC_QUALITY  ef4c9b68-5c72-4226-9a0d-983532a27b38           NaN  \n",
       "158196  AC_QUALITY  ef4c9b68-5c72-4226-9a0d-983532a27b38           NaN  \n",
       "158197    AC_PRICE  ef4c9b68-5c72-4226-9a0d-983532a27b38           NaN  \n",
       "\n",
       "[144 rows x 6 columns]"
      ]
     },
     "metadata": {},
     "output_type": "display_data"
    }
   ],
   "source": [
    "# Those rows are problematic, because they contain non-numeric characters\n",
    "problematic_rows = evaluation[evaluation[\"weight_clean\"].isna()]\n",
    "display(problematic_rows)"
   ]
  },
  {
   "cell_type": "code",
   "execution_count": 22,
   "metadata": {},
   "outputs": [],
   "source": [
    "# Dropping problematic rows from the evaluation dataset\n",
    "evaluation = evaluation.dropna(subset=[\"weight_clean\"]).copy()\n",
    "evaluation.loc[:, \"weight_clean\"] = evaluation[\"weight_clean\"].astype(int)"
   ]
  },
  {
   "cell_type": "code",
   "execution_count": null,
   "metadata": {},
   "outputs": [],
   "source": []
  }
 ],
 "metadata": {
  "kernelspec": {
   "display_name": "Python 3",
   "language": "python",
   "name": "python3"
  },
  "language_info": {
   "codemirror_mode": {
    "name": "ipython",
    "version": 3
   },
   "file_extension": ".py",
   "mimetype": "text/x-python",
   "name": "python",
   "nbconvert_exporter": "python",
   "pygments_lexer": "ipython3",
   "version": "3.9.13"
  }
 },
 "nbformat": 4,
 "nbformat_minor": 2
}
